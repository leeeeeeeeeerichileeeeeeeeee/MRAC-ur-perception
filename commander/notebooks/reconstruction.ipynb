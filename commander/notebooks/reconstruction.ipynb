{
 "cells": [
  {
   "cell_type": "code",
   "execution_count": 1,
   "metadata": {},
   "outputs": [],
   "source": [
    "from typing import List, Tuple\n",
    "from math import pi\n",
    "from datetime import datetime\n",
    "import rospy\n",
    "from copy import deepcopy\n",
    "\n",
    "from moveit_commander import PlanningSceneInterface\n",
    "\n",
    "from geometry_msgs.msg import (\n",
    "    Pose,\n",
    "    PoseStamped,\n",
    "    Point,\n",
    "    Quaternion,\n",
    "    Vector3,\n",
    ")\n",
    "from commander.msg import Goal\n",
    "from commander.srv import (\n",
    "    ExecuteTrajectory,\n",
    "    PlanGoal,\n",
    "    PlanGoalRequest,\n",
    "    PlanSequence,\n",
    "    PlanSequenceRequest,\n",
    "    PickPlace,\n",
    "    GetTcpPose,\n",
    "    VisualizePoses,\n",
    "    SetEe,\n",
    ")\n",
    "from industrial_reconstruction_msgs.srv import (\n",
    "    StartReconstruction,\n",
    "    StartReconstructionRequest,\n",
    "    StopReconstruction,\n",
    "    StopReconstructionRequest,\n",
    ")\n",
    "\n",
    "from commander.utils import poses_from_yaml, load_scene\n",
    "from commander.transform_utils import orient_poses, create_rotation_matrix, apply_transformation\n",
    "\n",
    "\n",
    "CAPTURE = True\n",
    "\n",
    "rospy.init_node(\"reconstruction\")\n",
    "\n",
    "load_scene()\n",
    "\n",
    "plan_goal_srv = rospy.ServiceProxy(\"commander/plan_goal\", PlanGoal)\n",
    "plan_sequence_srv = rospy.ServiceProxy(\"commander/plan_sequence\", PlanSequence)\n",
    "execute_trajectory_srv = rospy.ServiceProxy(\"commander/execute_trajectory\", ExecuteTrajectory)\n",
    "get_tcp_pose_srv = rospy.ServiceProxy(\"commander/get_tcp_pose\", GetTcpPose)\n",
    "set_ee_srv = rospy.ServiceProxy(\"commander/set_ee\", SetEe)\n",
    "pick_place_srv = rospy.ServiceProxy(\"commander/pick_place\", PickPlace)\n",
    "\n",
    "if CAPTURE:\n",
    "    start_recon = rospy.ServiceProxy(\"/start_reconstruction\", StartReconstruction)\n",
    "    stop_recon = rospy.ServiceProxy(\"/stop_reconstruction\", StopReconstruction)\n",
    "\n",
    "\n",
    "def display_poses(poses: List[Pose], frame_id: str = \"base_link\") -> None:\n",
    "    rospy.wait_for_service(\"/visualize_poses\", timeout=10)\n",
    "    visualize_poses = rospy.ServiceProxy(\"/visualize_poses\", VisualizePoses)\n",
    "    visualize_poses(frame_id, poses)\n",
    "\n",
    "\n",
    "def gen_recon_msg(path: str) -> Tuple[StartReconstructionRequest, StopReconstructionRequest]:\n",
    "    start_srv_req = StartReconstructionRequest()\n",
    "    start_srv_req.tracking_frame = \"rgb_camera_tcp\"\n",
    "    start_srv_req.relative_frame = \"base_link\"\n",
    "    start_srv_req.translation_distance = 0.0\n",
    "    start_srv_req.rotational_distance = 0.0\n",
    "    start_srv_req.live = True\n",
    "    start_srv_req.tsdf_params.voxel_length = 0.001\n",
    "    start_srv_req.tsdf_params.sdf_trunc = 0.002\n",
    "    start_srv_req.tsdf_params.min_box_values = Vector3(x=0.0, y=0.0, z=0.0)\n",
    "    start_srv_req.tsdf_params.max_box_values = Vector3(x=0.0, y=0.0, z=0.0)\n",
    "    start_srv_req.rgbd_params.depth_scale = 1\n",
    "    start_srv_req.rgbd_params.depth_trunc = 1.0\n",
    "    start_srv_req.rgbd_params.convert_rgb_to_intensity = False\n",
    "\n",
    "    stop_srv_req = StopReconstructionRequest()\n",
    "    path = path + datetime.now().strftime(\"%m_%d_%H_%M\") + \".ply\"\n",
    "    stop_srv_req.mesh_filepath = path\n",
    "\n",
    "    return start_srv_req, stop_srv_req"
   ]
  },
  {
   "cell_type": "markdown",
   "metadata": {},
   "source": []
  },
  {
   "cell_type": "code",
   "execution_count": 2,
   "metadata": {},
   "outputs": [],
   "source": [
    "cam_home = [0, -pi / 2, pi / 2, 0, pi / 2, pi]\n",
    "target0 = Pose(\n",
    "    position=Point(0.7, -0.3, 0.35),\n",
    "    orientation=Quaternion(0.7071067811865476, -0.7071067811865475, 0.0, 0.0),\n",
    ")\n",
    "target1 = Pose(\n",
    "    position=Point(0.7, 0.3, 0.35),\n",
    "    orientation=Quaternion(0.7071067811865476, -0.7071067811865475, 0.0, 0.0),\n",
    ")\n",
    "display_poses([target0, target1])\n",
    "success = set_ee_srv(\"rgb_camera_tcp\")"
   ]
  },
  {
   "cell_type": "code",
   "execution_count": 14,
   "metadata": {},
   "outputs": [],
   "source": [
    "resp = plan_goal_srv(Goal(joint_values=cam_home, vel_scale=0.2, acc_scale=0.1, planner=\"ptp\"))"
   ]
  },
  {
   "cell_type": "code",
   "execution_count": 15,
   "metadata": {},
   "outputs": [
    {
     "ename": "ServiceException",
     "evalue": "service [/commander/execute_trajectory] responded with an error: b'error processing request: Goal not reached'",
     "output_type": "error",
     "traceback": [
      "\u001b[0;31m---------------------------------------------------------------------------\u001b[0m",
      "\u001b[0;31mServiceException\u001b[0m                          Traceback (most recent call last)",
      "Cell \u001b[0;32mIn[15], line 1\u001b[0m\n\u001b[0;32m----> 1\u001b[0m \u001b[43mexecute_trajectory_srv\u001b[49m\u001b[43m(\u001b[49m\u001b[43m)\u001b[49m\n",
      "File \u001b[0;32m/opt/ros/noetic/lib/python3/dist-packages/rospy/impl/tcpros_service.py:442\u001b[0m, in \u001b[0;36mServiceProxy.__call__\u001b[0;34m(self, *args, **kwds)\u001b[0m\n\u001b[1;32m    428\u001b[0m \u001b[38;5;28;01mdef\u001b[39;00m\u001b[38;5;250m \u001b[39m\u001b[38;5;21m__call__\u001b[39m(\u001b[38;5;28mself\u001b[39m, \u001b[38;5;241m*\u001b[39margs, \u001b[38;5;241m*\u001b[39m\u001b[38;5;241m*\u001b[39mkwds):\n\u001b[1;32m    429\u001b[0m \u001b[38;5;250m    \u001b[39m\u001b[38;5;124;03m\"\"\"\u001b[39;00m\n\u001b[1;32m    430\u001b[0m \u001b[38;5;124;03m    Callable-style version of the service API. This accepts either a request message instance,\u001b[39;00m\n\u001b[1;32m    431\u001b[0m \u001b[38;5;124;03m    or you can call directly with arguments to create a new request instance. e.g.::\u001b[39;00m\n\u001b[0;32m   (...)\u001b[0m\n\u001b[1;32m    440\u001b[0m \u001b[38;5;124;03m    message. This is usually a type error with one of the fields.\u001b[39;00m\n\u001b[1;32m    441\u001b[0m \u001b[38;5;124;03m    \"\"\"\u001b[39;00m\n\u001b[0;32m--> 442\u001b[0m     \u001b[38;5;28;01mreturn\u001b[39;00m \u001b[38;5;28;43mself\u001b[39;49m\u001b[38;5;241;43m.\u001b[39;49m\u001b[43mcall\u001b[49m\u001b[43m(\u001b[49m\u001b[38;5;241;43m*\u001b[39;49m\u001b[43margs\u001b[49m\u001b[43m,\u001b[49m\u001b[43m \u001b[49m\u001b[38;5;241;43m*\u001b[39;49m\u001b[38;5;241;43m*\u001b[39;49m\u001b[43mkwds\u001b[49m\u001b[43m)\u001b[49m\n",
      "File \u001b[0;32m/opt/ros/noetic/lib/python3/dist-packages/rospy/impl/tcpros_service.py:523\u001b[0m, in \u001b[0;36mServiceProxy.call\u001b[0;34m(self, *args, **kwds)\u001b[0m\n\u001b[1;32m    520\u001b[0m transport\u001b[38;5;241m.\u001b[39msend_message(request, \u001b[38;5;28mself\u001b[39m\u001b[38;5;241m.\u001b[39mseq)\n\u001b[1;32m    522\u001b[0m \u001b[38;5;28;01mtry\u001b[39;00m:\n\u001b[0;32m--> 523\u001b[0m     responses \u001b[38;5;241m=\u001b[39m \u001b[43mtransport\u001b[49m\u001b[38;5;241;43m.\u001b[39;49m\u001b[43mreceive_once\u001b[49m\u001b[43m(\u001b[49m\u001b[43m)\u001b[49m\n\u001b[1;32m    524\u001b[0m     \u001b[38;5;28;01mif\u001b[39;00m \u001b[38;5;28mlen\u001b[39m(responses) \u001b[38;5;241m==\u001b[39m \u001b[38;5;241m0\u001b[39m:\n\u001b[1;32m    525\u001b[0m         \u001b[38;5;28;01mraise\u001b[39;00m ServiceException(\u001b[38;5;124m\"\u001b[39m\u001b[38;5;124mservice [\u001b[39m\u001b[38;5;132;01m%s\u001b[39;00m\u001b[38;5;124m] returned no response\u001b[39m\u001b[38;5;124m\"\u001b[39m\u001b[38;5;241m%\u001b[39m\u001b[38;5;28mself\u001b[39m\u001b[38;5;241m.\u001b[39mresolved_name)\n",
      "File \u001b[0;32m/opt/ros/noetic/lib/python3/dist-packages/rospy/impl/tcpros_base.py:742\u001b[0m, in \u001b[0;36mTCPROSTransport.receive_once\u001b[0;34m(self)\u001b[0m\n\u001b[1;32m    740\u001b[0m \u001b[38;5;28;01mwhile\u001b[39;00m \u001b[38;5;129;01mnot\u001b[39;00m msg_queue \u001b[38;5;129;01mand\u001b[39;00m \u001b[38;5;129;01mnot\u001b[39;00m \u001b[38;5;28mself\u001b[39m\u001b[38;5;241m.\u001b[39mdone \u001b[38;5;129;01mand\u001b[39;00m \u001b[38;5;129;01mnot\u001b[39;00m is_shutdown():\n\u001b[1;32m    741\u001b[0m     \u001b[38;5;28;01mif\u001b[39;00m b\u001b[38;5;241m.\u001b[39mtell() \u001b[38;5;241m>\u001b[39m\u001b[38;5;241m=\u001b[39m \u001b[38;5;241m4\u001b[39m:\n\u001b[0;32m--> 742\u001b[0m         \u001b[43mp\u001b[49m\u001b[38;5;241;43m.\u001b[39;49m\u001b[43mread_messages\u001b[49m\u001b[43m(\u001b[49m\u001b[43mb\u001b[49m\u001b[43m,\u001b[49m\u001b[43m \u001b[49m\u001b[43mmsg_queue\u001b[49m\u001b[43m,\u001b[49m\u001b[43m \u001b[49m\u001b[43msock\u001b[49m\u001b[43m)\u001b[49m \n\u001b[1;32m    743\u001b[0m     \u001b[38;5;28;01mif\u001b[39;00m \u001b[38;5;129;01mnot\u001b[39;00m msg_queue:\n\u001b[1;32m    744\u001b[0m         \u001b[38;5;28mself\u001b[39m\u001b[38;5;241m.\u001b[39mstat_bytes \u001b[38;5;241m+\u001b[39m\u001b[38;5;241m=\u001b[39m recv_buff(sock, b, p\u001b[38;5;241m.\u001b[39mbuff_size)\n",
      "File \u001b[0;32m/opt/ros/noetic/lib/python3/dist-packages/rospy/impl/tcpros_service.py:360\u001b[0m, in \u001b[0;36mTCPROSServiceClient.read_messages\u001b[0;34m(self, b, msg_queue, sock)\u001b[0m\n\u001b[1;32m    348\u001b[0m \u001b[38;5;28;01mdef\u001b[39;00m\u001b[38;5;250m \u001b[39m\u001b[38;5;21mread_messages\u001b[39m(\u001b[38;5;28mself\u001b[39m, b, msg_queue, sock):\n\u001b[1;32m    349\u001b[0m \u001b[38;5;250m    \u001b[39m\u001b[38;5;124;03m\"\"\"\u001b[39;00m\n\u001b[1;32m    350\u001b[0m \u001b[38;5;124;03m    In service implementation, reads in OK byte that precedes each\u001b[39;00m\n\u001b[1;32m    351\u001b[0m \u001b[38;5;124;03m    response. The OK byte allows for the passing of error messages\u001b[39;00m\n\u001b[0;32m   (...)\u001b[0m\n\u001b[1;32m    358\u001b[0m \u001b[38;5;124;03m    @type  sock: socket.socket\u001b[39;00m\n\u001b[1;32m    359\u001b[0m \u001b[38;5;124;03m    \"\"\"\u001b[39;00m\n\u001b[0;32m--> 360\u001b[0m     \u001b[38;5;28;43mself\u001b[39;49m\u001b[38;5;241;43m.\u001b[39;49m\u001b[43m_read_ok_byte\u001b[49m\u001b[43m(\u001b[49m\u001b[43mb\u001b[49m\u001b[43m,\u001b[49m\u001b[43m \u001b[49m\u001b[43msock\u001b[49m\u001b[43m)\u001b[49m\n\u001b[1;32m    361\u001b[0m     rospy\u001b[38;5;241m.\u001b[39mmsg\u001b[38;5;241m.\u001b[39mdeserialize_messages(b, msg_queue, \u001b[38;5;28mself\u001b[39m\u001b[38;5;241m.\u001b[39mrecv_data_class, queue_size\u001b[38;5;241m=\u001b[39m\u001b[38;5;28mself\u001b[39m\u001b[38;5;241m.\u001b[39mqueue_size, max_msgs\u001b[38;5;241m=\u001b[39m\u001b[38;5;241m1\u001b[39m, start\u001b[38;5;241m=\u001b[39m\u001b[38;5;241m1\u001b[39m) \u001b[38;5;66;03m#rospy.msg\u001b[39;00m\n\u001b[1;32m    362\u001b[0m     \u001b[38;5;66;03m#deserialize_messages only resets the buffer to the start\u001b[39;00m\n\u001b[1;32m    363\u001b[0m     \u001b[38;5;66;03m#point if everything was consumed, so we have to further reset\u001b[39;00m\n\u001b[1;32m    364\u001b[0m     \u001b[38;5;66;03m#it.\u001b[39;00m\n",
      "File \u001b[0;32m/opt/ros/noetic/lib/python3/dist-packages/rospy/impl/tcpros_service.py:343\u001b[0m, in \u001b[0;36mTCPROSServiceClient._read_ok_byte\u001b[0;34m(self, b, sock)\u001b[0m\n\u001b[1;32m    341\u001b[0m     b\u001b[38;5;241m.\u001b[39mseek(\u001b[38;5;241m0\u001b[39m)\n\u001b[1;32m    342\u001b[0m     b\u001b[38;5;241m.\u001b[39mtruncate(\u001b[38;5;241m0\u001b[39m)\n\u001b[0;32m--> 343\u001b[0m     \u001b[38;5;28;01mraise\u001b[39;00m ServiceException(\u001b[38;5;124m\"\u001b[39m\u001b[38;5;124mservice [\u001b[39m\u001b[38;5;132;01m%s\u001b[39;00m\u001b[38;5;124m] responded with an error: \u001b[39m\u001b[38;5;132;01m%s\u001b[39;00m\u001b[38;5;124m\"\u001b[39m\u001b[38;5;241m%\u001b[39m(\u001b[38;5;28mself\u001b[39m\u001b[38;5;241m.\u001b[39mresolved_name, \u001b[38;5;28mstr\u001b[39m))\n\u001b[1;32m    344\u001b[0m \u001b[38;5;28;01melse\u001b[39;00m:\n\u001b[1;32m    345\u001b[0m     \u001b[38;5;66;03m# success, set seek point to start of message\u001b[39;00m\n\u001b[1;32m    346\u001b[0m     b\u001b[38;5;241m.\u001b[39mseek(pos)\n",
      "\u001b[0;31mServiceException\u001b[0m: service [/commander/execute_trajectory] responded with an error: b'error processing request: Goal not reached'"
     ]
    }
   ],
   "source": [
    "execute_trajectory_srv()"
   ]
  },
  {
   "cell_type": "code",
   "execution_count": 5,
   "metadata": {},
   "outputs": [],
   "source": [
    "sequence = poses_from_yaml(\"/dev_ws/src/commander/data/4points.yaml\")\n",
    "origin = Pose(position=Point(1.5, 0.3, 0.1), orientation=Quaternion(0.0, 0.0, 0.0, 1.0))\n",
    "sequence = orient_poses(origin, sequence)\n",
    "tf = create_rotation_matrix([0, 0, pi])\n",
    "sequence = [apply_transformation(pose, tf) for pose in sequence]\n",
    "display_poses(sequence)"
   ]
  },
  {
   "cell_type": "code",
   "execution_count": 6,
   "metadata": {},
   "outputs": [],
   "source": [
    "success = plan_goal_srv(\n",
    "    Goal(joint_values=cam_home, vel_scale=0.1, acc_scale=0.1, planner=\"ptp\")\n",
    ").success"
   ]
  },
  {
   "cell_type": "code",
   "execution_count": 7,
   "metadata": {},
   "outputs": [],
   "source": [
    "success = execute_trajectory_srv()"
   ]
  },
  {
   "cell_type": "code",
   "execution_count": 10,
   "metadata": {},
   "outputs": [
    {
     "name": "stdout",
     "output_type": "stream",
     "text": [
      "start reconstruction\n",
      "stop reconstruction\n"
     ]
    }
   ],
   "source": [
    "# construct goals and blends, first and last blend are 0.0\n",
    "goals = []\n",
    "blends = []\n",
    "for i, pose in enumerate(sequence):\n",
    "    goals.append(Goal(pose=pose, vel_scale=0.1, acc_scale=0.1, planner=\"lin\"))\n",
    "    blends.append(0.01)\n",
    "\n",
    "if CAPTURE:\n",
    "    start_recon_req, stop_recon_req = gen_recon_msg(\"/home/chi/capture\")\n",
    "\n",
    "resp = plan_goal_srv(Goal(pose=sequence[0], vel_scale=0.1, acc_scale=0.1, planner=\"lin\"))\n",
    "\n",
    "blends[1] = 0.0\n",
    "blends[-2] = 0.0\n",
    "if resp.success:\n",
    "    execute_trajectory_srv()\n",
    "\n",
    "# plan sequence from the second pose to the second last pose\n",
    "resp = plan_sequence_srv(goals=goals[1:-1], blends=blends[1:-1])\n",
    "if resp.success:\n",
    "    print(\"start reconstruction\")\n",
    "    if CAPTURE:\n",
    "        execute_trajectory_srv()\n",
    "else:\n",
    "    print(\"sequence planning failed\")\n",
    "\n",
    "resp = plan_goal_srv(Goal(pose=sequence[-1], vel_scale=0.1, acc_scale=0.1, planner=\"lin\"))\n",
    "if resp.success:\n",
    "    print(\"stop reconstruction\")\n",
    "    if CAPTURE:\n",
    "        execute_trajectory_srv()\n",
    "        stop_recon(stop_recon_req)\n",
    "    \n",
    "else:\n",
    "    print(\"goal planning failed\")\n",
    "    exit()\n",
    "\n"
   ]
  }
 ],
 "metadata": {
  "kernelspec": {
   "display_name": "Python 3",
   "language": "python",
   "name": "python3"
  },
  "language_info": {
   "codemirror_mode": {
    "name": "ipython",
    "version": 3
   },
   "file_extension": ".py",
   "mimetype": "text/x-python",
   "name": "python",
   "nbconvert_exporter": "python",
   "pygments_lexer": "ipython3",
   "version": "3.8.10"
  },
  "orig_nbformat": 4
 },
 "nbformat": 4,
 "nbformat_minor": 2
}
